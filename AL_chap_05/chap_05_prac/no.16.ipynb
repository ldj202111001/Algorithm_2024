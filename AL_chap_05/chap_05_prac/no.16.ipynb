{
 "cells": [
  {
   "cell_type": "markdown",
   "metadata": {},
   "source": [
    "# 1. 문제정의\n",
    "주어진 이진트리에서 모든 노드의 수를 계산하는 알고리즘을 분할 정복 기법으로 설계하라."
   ]
  },
  {
   "cell_type": "code",
   "execution_count": null,
   "metadata": {},
   "outputs": [],
   "source": [
    "class TNode:                               # 이진트리 노드 클래스\n",
    "    def __init__(self, data, left, right): # 인스턴스가 생성될 때 초기화 작업을 수행하는 메소드 / 노드의 데이터와 왼쪽, 오른쪽 자식트리를 초기화한다.\n",
    "        self.data = data\n",
    "        self.left = left\n",
    "        self.right = right\n",
    "\n",
    "d = TNode('D', None, None)    # --------------- \n",
    "e = TNode('E', None,None)     #\n",
    "b = TNode('B', d, e)          #  이진트리 초기화\n",
    "f = TNode('F', None, None)    #\n",
    "c = TNode('C', f, None)       # \n",
    "root = TNode('A', b, c)       # ----------------\n",
    "\n",
    "def get_count(n):\n",
    "    if n is None:\n",
    "        return 0\n",
    "    left = get_count(n.left)\n",
    "    right = get_count(n.right)\n",
    "    return left + right + 1\n",
    "    \n",
    "\n",
    "cnt = get_count(root)\n",
    "print(cnt)"
   ]
  }
 ],
 "metadata": {
  "language_info": {
   "name": "python"
  }
 },
 "nbformat": 4,
 "nbformat_minor": 2
}
