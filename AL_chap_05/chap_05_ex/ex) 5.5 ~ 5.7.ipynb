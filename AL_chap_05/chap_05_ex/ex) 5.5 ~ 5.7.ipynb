{
 "cells": [
  {
   "cell_type": "markdown",
   "metadata": {},
   "source": [
    "# 1) 문제 정의\n",
    "이진트리의 전위, 중위, 후위 순회 알고리즘을 정의하라."
   ]
  },
  {
   "cell_type": "markdown",
   "metadata": {},
   "source": [
    "# 2) 알고리즘 설명\n",
    "이진트리의 전위 순회는   \n",
    "[루트노드]  -  [왼쪽트리]  -  [오른쪽트리]   \n",
    "순으로 트리를 방문하는 알고리즘이다.\n",
    "   \n",
    "이진트리의 중위 순회는   \n",
    "[왼쪽트리]  -  [루트노드]  -  [오른쪽트리]     \n",
    "순으로 트리를 방문하는 알고리즘이다.  \n",
    "   \n",
    "이진트리의 후위 순회는    \n",
    "[왼쪽트리]  -  [오른쪽트리]  -  [루트노드]    \n",
    "순으로 트리를 방문하는 알고리즘이다.   "
   ]
  },
  {
   "cell_type": "markdown",
   "metadata": {},
   "source": [
    "# 3) 손으로 푼 예제"
   ]
  },
  {
   "cell_type": "markdown",
   "metadata": {},
   "source": [
    "# 4) 코드 설명 (설계)\n",
    "#### 1. 자료구조 정의   \n",
    "클래스 TNode:   \n",
    "\n",
    "#### 2. 함수 정의\n",
    "def preorder(n):   \n",
    "매개변수: "
   ]
  },
  {
   "cell_type": "markdown",
   "metadata": {},
   "source": [
    "# 5) 코드"
   ]
  },
  {
   "cell_type": "code",
   "execution_count": 3,
   "metadata": {},
   "outputs": [
    {
     "name": "stdout",
     "output_type": "stream",
     "text": [
      "전위 순회: \n",
      "A B D E C F \n",
      "\n",
      "중위 순회: \n",
      "D B E A F C \n",
      "\n",
      "후위 순회: \n",
      "D E B F C A "
     ]
    }
   ],
   "source": [
    "class TNode:                               # 이진트리 노드 클래스\n",
    "    def __init__(self, data, left, right):\n",
    "        self.data = data\n",
    "        self.left = left\n",
    "        self.right = right\n",
    "\n",
    "d = TNode('D', None, None)    # ---------------\n",
    "e = TNode('E',None ,None)     #\n",
    "b = TNode('B',d ,e)           #  이진트리 초기화\n",
    "f = TNode('F',None ,None)     #\n",
    "c = TNode('C', f,None)        # \n",
    "root = TNode('A', b, c)       # ----------------\n",
    "\n",
    "def preorder(n):\n",
    "    if n is not None:\n",
    "        print(n.data, end = ' ')\n",
    "        preorder(n.left)\n",
    "        preorder(n.right)\n",
    "\n",
    "def inorder(n):\n",
    "    if n is not None:        \n",
    "        inorder(n.left)\n",
    "        print(n.data, end = ' ')\n",
    "        inorder(n.right)\n",
    "\n",
    "def postorder(n):\n",
    "    if n is not None:        \n",
    "        postorder(n.left)\n",
    "        postorder(n.right)\n",
    "        print(n.data, end = ' ')\n",
    "\n",
    "print('전위 순회: ')\n",
    "preorder(root)\n",
    "print('\\n')\n",
    "print('중위 순회: ')\n",
    "inorder(root)\n",
    "print('\\n')\n",
    "print('후위 순회: ')\n",
    "postorder(root)"
   ]
  },
  {
   "cell_type": "markdown",
   "metadata": {},
   "source": [
    "# 6) 테스트 코드 (다른 트리로)"
   ]
  },
  {
   "cell_type": "markdown",
   "metadata": {},
   "source": [
    "# 7) 수행 결과"
   ]
  },
  {
   "cell_type": "markdown",
   "metadata": {},
   "source": [
    "# 8) 복잡도 분석"
   ]
  }
 ],
 "metadata": {
  "kernelspec": {
   "display_name": "Python 3",
   "language": "python",
   "name": "python3"
  },
  "language_info": {
   "codemirror_mode": {
    "name": "ipython",
    "version": 3
   },
   "file_extension": ".py",
   "mimetype": "text/x-python",
   "name": "python",
   "nbconvert_exporter": "python",
   "pygments_lexer": "ipython3",
   "version": "3.12.2"
  }
 },
 "nbformat": 4,
 "nbformat_minor": 2
}
