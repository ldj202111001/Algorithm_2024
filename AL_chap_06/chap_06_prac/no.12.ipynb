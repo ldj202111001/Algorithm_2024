{
 "cells": [
  {
   "attachments": {},
   "cell_type": "markdown",
   "metadata": {},
   "source": [
    "# 문제정의\n",
    "알파벳 소문자와 대문자 (a~z, A~Z)만으로 이루어진 리스트를 알파벳 순으로 정렬하는 코드를 카운팅 정렬로 구현하라."
   ]
  },
  {
   "cell_type": "code",
   "execution_count": 37,
   "metadata": {},
   "outputs": [
    {
     "name": "stdout",
     "output_type": "stream",
     "text": [
      "Original :  ['A', 'F', 'S', 'H', 'T', 'J', 'A']\n",
      "Counting :  ['A', 'A', 'F', 'H', 'J', 'S', 'T']\n",
      "Original :  ['t', 'j', 'i', 'p', 'c']\n",
      "Counting :  ['c', 'i', 'j', 'p', 't']\n",
      "Original :  ['U', 'a', 'h', 'e', 'I', 'o', 'G']\n",
      "Counting :  ['a', 'e', 'G', 'h', 'I', 'o', 'U']\n"
     ]
    }
   ],
   "source": [
    "def counting_sort(A):\n",
    "    output = [0] * len(A) # 정렬된 결과 리스트 임시 저장\n",
    "    count = [0] * MAX_VAL # 각 킷값의 빈도를 저장하는 인덱스\n",
    "\n",
    "\n",
    "    for i in range(len(A)):\n",
    "        if ord(A[i]) > 95:   # 소문자 일때와 대문자 일때를 나눈다.\n",
    "            count[ord(A[i]) - 97] += 1\n",
    "        else:\n",
    "            count[ord(A[i]) - 65] += 1     # 리스트 data의 각 킷값의 빈도수 계산   \n",
    "                                           # 입력받는 데이터가 문자이므로 아스키 코드 활용\n",
    "\n",
    "    for i in range(MAX_VAL):\n",
    "        if i>0:\n",
    "            count[i] += count[i-1] # 전 빈도수를 다음빈도수에 더한다 즉, 빈도테이블을 위치 테이블로 전환하는 과정이다.\n",
    "                                   # 위치 테이블: 인덱스 = 킷값, 값 = 결과 리스트[값] 이전까지 인덱스 저장\n",
    "\n",
    "    for i in range(len(A)):\n",
    "        if ord(A[i]) > 95:   # 소문자 일때와 대문자 일때를 나눈다.\n",
    "            output[count[int(ord(A[i])) - 97] - 1] = A[i] # 위치 테이블을 토대로 결과 리스트에 리스트 정렬\n",
    "            count[int(ord(A[i])) - 97] -= 1\n",
    "        else:\n",
    "            output[count[int(ord(A[i])) - 65] - 1] = A[i] \n",
    "            count[int(ord(A[i])) - 65] -= 1\n",
    "        \n",
    "\n",
    "    for i in range(len(A)):\n",
    "        A[i] = output[i]    # 결과 리스트를 원래 리스트에 저장\n",
    "\n",
    "       \n",
    "\n",
    "\n",
    "MAX_VAL = 52 # 알파벳 개수 x 2 (소문자, 대문자)\n",
    "\n",
    "data = ['A', 'F', 'S', 'H', 'T', 'J', 'A']\n",
    "data2 = ['t', 'j', 'i', 'p', 'c']\n",
    "data3 = ['U', 'a', 'h', 'e', 'I', 'o', 'G']\n",
    "print(\"Original : \", data)\n",
    "counting_sort(data)\n",
    "print(\"Counting : \", data)\n",
    "\n",
    "print(\"Original : \", data2)\n",
    "counting_sort(data2)\n",
    "print(\"Counting : \", data2)\n",
    "\n",
    "print(\"Original : \", data3)\n",
    "counting_sort(data3)\n",
    "print(\"Counting : \", data3)"
   ]
  },
  {
   "cell_type": "code",
   "execution_count": null,
   "metadata": {},
   "outputs": [],
   "source": []
  }
 ],
 "metadata": {
  "kernelspec": {
   "display_name": "Python 3",
   "language": "python",
   "name": "python3"
  },
  "language_info": {
   "codemirror_mode": {
    "name": "ipython",
    "version": 3
   },
   "file_extension": ".py",
   "mimetype": "text/x-python",
   "name": "python",
   "nbconvert_exporter": "python",
   "pygments_lexer": "ipython3",
   "version": "3.11.9"
  }
 },
 "nbformat": 4,
 "nbformat_minor": 2
}
