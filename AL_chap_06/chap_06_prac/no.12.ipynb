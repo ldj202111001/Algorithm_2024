{
 "cells": [
  {
   "cell_type": "markdown",
   "metadata": {},
   "source": [
    "# 문제정의\n",
    "알파벳 소문자와 대문자 (a~z, A~Z)만으로 이루어진 리스트를 알파벳 순으로 정렬하는 코드를 카운팅 정렬로 구현하라."
   ]
  },
  {
   "cell_type": "code",
   "execution_count": 26,
   "metadata": {},
   "outputs": [
    {
     "name": "stdout",
     "output_type": "stream",
     "text": [
      "Original :  ['A', 'F', 'C', 'H', 'K', 'Z', 'H']\n",
      "[1, 0, 1, 0, 0, 1, 0, 2, 0, 0, 1, 0, 0, 0, 0, 0, 0, 0, 0, 0, 0, 0, 0, 0, 0, 1]\n",
      "[2, 2, 3, 3, 3, 4, 4, 6, 6, 6, 7, 7, 7, 7, 7, 7, 7, 7, 7, 7, 7, 7, 7, 7, 7, 8]\n"
     ]
    },
    {
     "ename": "IndexError",
     "evalue": "list index out of range",
     "output_type": "error",
     "traceback": [
      "\u001b[1;31m---------------------------------------------------------------------------\u001b[0m",
      "\u001b[1;31mIndexError\u001b[0m                                Traceback (most recent call last)",
      "Cell \u001b[1;32mIn[26], line 35\u001b[0m\n\u001b[0;32m     33\u001b[0m data \u001b[38;5;241m=\u001b[39m [\u001b[38;5;124m'\u001b[39m\u001b[38;5;124mA\u001b[39m\u001b[38;5;124m'\u001b[39m, \u001b[38;5;124m'\u001b[39m\u001b[38;5;124mF\u001b[39m\u001b[38;5;124m'\u001b[39m, \u001b[38;5;124m'\u001b[39m\u001b[38;5;124mC\u001b[39m\u001b[38;5;124m'\u001b[39m, \u001b[38;5;124m'\u001b[39m\u001b[38;5;124mH\u001b[39m\u001b[38;5;124m'\u001b[39m, \u001b[38;5;124m'\u001b[39m\u001b[38;5;124mK\u001b[39m\u001b[38;5;124m'\u001b[39m, \u001b[38;5;124m'\u001b[39m\u001b[38;5;124mZ\u001b[39m\u001b[38;5;124m'\u001b[39m, \u001b[38;5;124m'\u001b[39m\u001b[38;5;124mH\u001b[39m\u001b[38;5;124m'\u001b[39m]\n\u001b[0;32m     34\u001b[0m \u001b[38;5;28mprint\u001b[39m(\u001b[38;5;124m\"\u001b[39m\u001b[38;5;124mOriginal : \u001b[39m\u001b[38;5;124m\"\u001b[39m, data)\n\u001b[1;32m---> 35\u001b[0m \u001b[43mcounting_sort\u001b[49m\u001b[43m(\u001b[49m\u001b[43mdata\u001b[49m\u001b[43m)\u001b[49m\n\u001b[0;32m     36\u001b[0m \u001b[38;5;28mprint\u001b[39m(\u001b[38;5;124m\"\u001b[39m\u001b[38;5;124mCounting : \u001b[39m\u001b[38;5;124m\"\u001b[39m, data)\n",
      "Cell \u001b[1;32mIn[26], line 18\u001b[0m, in \u001b[0;36mcounting_sort\u001b[1;34m(A)\u001b[0m\n\u001b[0;32m     15\u001b[0m \u001b[38;5;28mprint\u001b[39m(count)\n\u001b[0;32m     17\u001b[0m \u001b[38;5;28;01mfor\u001b[39;00m i \u001b[38;5;129;01min\u001b[39;00m \u001b[38;5;28mrange\u001b[39m(\u001b[38;5;28mlen\u001b[39m(A)):\n\u001b[1;32m---> 18\u001b[0m     output[\u001b[43mcount\u001b[49m\u001b[43m[\u001b[49m\u001b[38;5;28;43mint\u001b[39;49m\u001b[43m(\u001b[49m\u001b[38;5;28;43mord\u001b[39;49m\u001b[43m(\u001b[49m\u001b[43mA\u001b[49m\u001b[43m[\u001b[49m\u001b[43mi\u001b[49m\u001b[43m]\u001b[49m\u001b[43m)\u001b[49m\u001b[43m)\u001b[49m\u001b[43m \u001b[49m\u001b[38;5;241;43m-\u001b[39;49m\u001b[43m \u001b[49m\u001b[38;5;241;43m64\u001b[39;49m\u001b[43m]\u001b[49m \u001b[38;5;241m-\u001b[39m \u001b[38;5;241m1\u001b[39m] \u001b[38;5;241m=\u001b[39m A[i] \u001b[38;5;66;03m# 위치 테이블을 토대로 결과 리스트에 리스트 정렬\u001b[39;00m\n\u001b[0;32m     19\u001b[0m     count[\u001b[38;5;28mint\u001b[39m(\u001b[38;5;28mord\u001b[39m(A[i])) \u001b[38;5;241m-\u001b[39m \u001b[38;5;241m65\u001b[39m] \u001b[38;5;241m-\u001b[39m\u001b[38;5;241m=\u001b[39m \u001b[38;5;241m1\u001b[39m\n",
      "\u001b[1;31mIndexError\u001b[0m: list index out of range"
     ]
    }
   ],
   "source": [
    "def counting_sort(A):\n",
    "    output = [0] * len(A) # 정렬된 결과 리스트 임시 저장\n",
    "    count = [0] * MAX_VAL # 각 킷값의 빈도를 저장하는 인덱스\n",
    "\n",
    "\n",
    "    for i in range(len(A)):\n",
    "        count[int(ord(A[i])) - 65] += 1     # 리스트 data의 각 킷값의 빈도수 계산   \n",
    "                                            # 입력받는 데이터가 문자이므로 아스키 코드 활용\n",
    "\n",
    "    print(count)\n",
    "\n",
    "    for i in range(MAX_VAL):\n",
    "        count[i] += count[i-1] # 전 빈도수를 다음빈도수에 더한다 즉, 빈도테이블을 위치 테이블로 전환하는 과정이다.\n",
    "                               # 위치 테이블: 인덱스 = 킷값, 값 = 결과 리스트[값] 이전까지 인덱스 저장\n",
    "    print(count)\n",
    "\n",
    "    for i in range(len(A)):\n",
    "        output[count[int(ord(A[i])) - 64] - 1] = A[i] # 위치 테이블을 토대로 결과 리스트에 리스트 정렬\n",
    "        count[int(ord(A[i])) - 65] -= 1\n",
    "\n",
    "    #for i in range(len(A)):\n",
    "    #    output[count[A[i]] - 1] = A[i] # 위치 테이블을 토대로 결과 리스트에 리스트 정렬\n",
    "    #    count[A[i]] -= 1\n",
    "\n",
    "\n",
    "    for i in range(len(A)):\n",
    "        A[i] = output[i]    # 결과 리스트를 원래 리스트에 저장\n",
    "\n",
    "       \n",
    "\n",
    "\n",
    "MAX_VAL = 26\n",
    "data = ['A', 'F', 'C', 'H', 'K', 'Z', 'H']\n",
    "print(\"Original : \", data)\n",
    "counting_sort(data)\n",
    "print(\"Counting : \", data)"
   ]
  }
 ],
 "metadata": {
  "kernelspec": {
   "display_name": "Python 3",
   "language": "python",
   "name": "python3"
  },
  "language_info": {
   "codemirror_mode": {
    "name": "ipython",
    "version": 3
   },
   "file_extension": ".py",
   "mimetype": "text/x-python",
   "name": "python",
   "nbconvert_exporter": "python",
   "pygments_lexer": "ipython3",
   "version": "3.12.2"
  }
 },
 "nbformat": 4,
 "nbformat_minor": 2
}
