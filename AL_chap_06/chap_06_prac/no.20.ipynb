{
 "cells": [
  {
   "cell_type": "markdown",
   "metadata": {},
   "source": [
    "# 문제정의\n",
    "크기가 13인 해시 테이블에서 입력 자료 27과 130은 어떤 인덱스로 대응되는가? 해싱함수는 h(key) = key % 13 라고하자.   \n",
    "(1) 1, 10 (2) 13, 0 (3) 1, 0 (4) 2, 3\n",
    "\n",
    "답: 3번\n",
    "풀이: 해시함수에 자료 입력자료를 각각 입력시      \n",
    "       27 % 13 == 1\n",
    "       130 % 13 == 0\n",
    "    이다.\n"
   ]
  }
 ],
 "metadata": {
  "language_info": {
   "name": "python"
  }
 },
 "nbformat": 4,
 "nbformat_minor": 2
}
