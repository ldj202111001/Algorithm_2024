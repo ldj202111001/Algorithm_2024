{
 "cells": [
  {
   "cell_type": "markdown",
   "metadata": {},
   "source": [
    "# 문제정의\n",
    "크기가 13인 해시 테이블에서 입력 자료 27과 130은 어떤 인덱스로 대응되는가? 해싱함수는 h(key) = key % 13 라고하자.   \n",
    "(1) 1, 10 (2) 13, 0 (3) 1, 0 (4) 2, 3"
   ]
  },
  {
   "cell_type": "code",
   "execution_count": null,
   "metadata": {},
   "outputs": [],
   "source": []
  }
 ],
 "metadata": {
  "language_info": {
   "name": "python"
  }
 },
 "nbformat": 4,
 "nbformat_minor": 2
}
