{
 "cells": [
  {
   "attachments": {},
   "cell_type": "markdown",
   "metadata": {},
   "source": [
    "# 1. 문제정의\n",
    "인접행렬로 표현된 그래프에서 모든 지점에서 다른 모든 지점까지의 최단 경로를 모두 구하는 알고리즘을 구현하라 (플로이드-워셜 알고리즘)"
   ]
  },
  {
   "attachments": {},
   "cell_type": "markdown",
   "metadata": {},
   "source": [
    "# 2. 알고리즘 설명\n",
    "\n"
   ]
  },
  {
   "cell_type": "markdown",
   "metadata": {},
   "source": [
    "# 3. 손으로 푼 예제\n"
   ]
  },
  {
   "attachments": {},
   "cell_type": "markdown",
   "metadata": {},
   "source": [
    "# 4. 코드 설명\n",
    "#### 1. 자료구조 정의\n",
    "\n"
   ]
  },
  {
   "attachments": {},
   "cell_type": "markdown",
   "metadata": {},
   "source": [
    "# 5. 알고리즘 코드"
   ]
  },
  {
   "cell_type": "code",
   "execution_count": 3,
   "metadata": {},
   "outputs": [
    {
     "name": "stdout",
     "output_type": "stream",
     "text": [
      "Original :  [1, 4, 1, 2, 7, 5, 2]\n",
      "[0, 2, 4, 4, 5, 6, 6, 7, 7, 7]\n",
      "Counting :  [1, 1, 2, 2, 4, 5, 7]\n"
     ]
    }
   ],
   "source": [
    "def counting_sort(A):\n",
    "    output = [0] * len(A) # 정렬된 결과 리스트 임시 저장\n",
    "    count = [0] * MAX_VAL # 각 킷값의 빈도를 저장하는 인덱스\n",
    "\n",
    "\n",
    "    for i in A:\n",
    "        count[i] += 1     # 리스트 data의 각 킷값의 빈도수 계산\n",
    "        \n",
    "    print(count)\n",
    "\n",
    "\n",
    "    for i in range(MAX_VAL):\n",
    "        count[i] += count[i-1] # 전 빈도수를 다음빈도수에 더한다 즉, 빈도테이블을 위치 테이블로 전환하는 과정이다.\n",
    "                               # 위치 테이블: 인덱스 = 킷값, 값 = 결과 리스트[값] 이전까지 인덱스 저장                   \n",
    "    print(count)\n",
    "    \n",
    "    for i in range(len(A)):\n",
    "        output[count[A[i]] - 1] = A[i] # 위치 테이블을 토대로 결과 리스트에 리스트 정렬\n",
    "        count[A[i]] -= 1\n",
    "        \n",
    "\n",
    "\n",
    "    for i in range(len(A)):\n",
    "        A[i] = output[i]    # 결과 리스트를 원래 리스트에 저장\n",
    "\n",
    "       \n",
    "\n",
    "\n",
    "MAX_VAL = 10\n",
    "data = [1, 4, 1, 2, 7, 5, 2]\n",
    "print(\"Original : \", data)\n",
    "counting_sort(data)\n",
    "print(\"Counting : \", data)\n"
   ]
  },
  {
   "attachments": {},
   "cell_type": "markdown",
   "metadata": {},
   "source": [
    "# 6. 테스트 코드 (입력을 바꾸어)"
   ]
  },
  {
   "cell_type": "code",
   "execution_count": 2,
   "metadata": {},
   "outputs": [
    {
     "name": "stdout",
     "output_type": "stream",
     "text": [
      "Original :  [5, 3, 4, 4, 9, 1, 6, 1, 4, 3, 2, 6]\n",
      "Counting :  [1, 1, 2, 3, 3, 4, 4, 4, 5, 6, 6, 9]\n"
     ]
    }
   ],
   "source": []
  },
  {
   "attachments": {},
   "cell_type": "markdown",
   "metadata": {},
   "source": [
    "# 7. 수행 결과\n"
   ]
  },
  {
   "cell_type": "markdown",
   "metadata": {},
   "source": []
  },
  {
   "attachments": {},
   "cell_type": "markdown",
   "metadata": {},
   "source": [
    "# 8. 복잡도 분석\n",
    "### 시간 복잡도:  \n"
   ]
  }
 ],
 "metadata": {
  "kernelspec": {
   "display_name": "Python 3",
   "language": "python",
   "name": "python3"
  },
  "language_info": {
   "codemirror_mode": {
    "name": "ipython",
    "version": 3
   },
   "file_extension": ".py",
   "mimetype": "text/x-python",
   "name": "python",
   "nbconvert_exporter": "python",
   "pygments_lexer": "ipython3",
   "version": "3.11.9"
  }
 },
 "nbformat": 4,
 "nbformat_minor": 2
}
